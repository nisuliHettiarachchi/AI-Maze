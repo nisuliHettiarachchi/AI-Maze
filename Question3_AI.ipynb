{
  "nbformat": 4,
  "nbformat_minor": 0,
  "metadata": {
    "colab": {
      "provenance": []
    },
    "kernelspec": {
      "name": "python3",
      "display_name": "Python 3"
    },
    "language_info": {
      "name": "python"
    }
  },
  "cells": [
    {
      "cell_type": "markdown",
      "source": [
        "Task 1"
      ],
      "metadata": {
        "id": "vxc6_pFPLoK7"
      }
    },
    {
      "cell_type": "code",
      "source": [
        "import random\n",
        "import sys\n",
        "from copy import copy, deepcopy\n",
        "\n",
        "\n",
        "#This function generates a maze\n",
        "def generate_maze(size):\n",
        "    for i in range(size):\n",
        "        row = []\n",
        "\n",
        "        for j in range(size):\n",
        "            row.append(i*size+j)\n",
        "        maze.append(row)\n",
        "\n",
        "\n",
        "#This function prints a maze\n",
        "def print_maze(maze):\n",
        "\n",
        "    for i in range(len(maze)):\n",
        "        for j in range(len(maze[i])):\n",
        "            print(str(maze[j][i]).center(3), end=\" \")\n",
        "        print()\n",
        "\n",
        "\n",
        "#This function is to replace barriers, start and end values with signs\n",
        "def place_barriers(maze): \n",
        "    for i in range(len(maze)):\n",
        "        for j in range(len(maze)):\n",
        "            if maze[i][j] in barriers:\n",
        "                maze[i][j] = 'X'\n",
        "            if maze[i][j] == start_value:\n",
        "                maze[i][j] = 'S'\n",
        "            if maze[i][j] == end_value:\n",
        "                maze[i][j] = 100    "
      ],
      "metadata": {
        "id": "w2niLqolLAKy"
      },
      "execution_count": null,
      "outputs": []
    },
    {
      "cell_type": "markdown",
      "source": [
        "Task 2"
      ],
      "metadata": {
        "id": "5tUd9KbRMZd6"
      }
    },
    {
      "cell_type": "code",
      "source": [
        "#DFS function\n",
        "#Shortest path obtained\n",
        "\n",
        "coords_finder2 = 0\n",
        "value_finder = 0\n",
        "coords_finder = 0\n",
        "\n",
        "def dfs(visited, graph, node, target_node):  \n",
        "\n",
        "    if node not in visited:\n",
        "        print (node, end = \" \")\n",
        "        visited.add(node)\n",
        "        for neighbour in graph[node]:\n",
        "            dfs(visited, graph, neighbour, target_node)\n",
        "            if target_node in visited:\n",
        "                path.append(node)\n",
        "                break\n",
        "    if node == target_node:\n",
        "        path.append(target_node)\n",
        "\n",
        "\n",
        "def best_fs(start_node, goal_node):\n",
        "    visited.append(start_node)\n",
        "    path = []\n",
        "    curr_node = start_node\n",
        "    value_coords = coords_finder2(curr_node, heu_maze)[0]\n",
        "    while goal_node not in path:\n",
        "\n",
        "\n",
        "        temp_nodes = []\n",
        "\n",
        "        try:\n",
        "            if value_coords[0] != 5:\n",
        "                if type(value_finder(value_coords[0] + 1, value_coords[1], heu_maze)) == int:\n",
        "                    temp_nodes.append(value_finder(value_coords[0] + 1, value_coords[1], maze_graph))\n",
        "            if value_coords[0] != 0:\n",
        "                if type(value_finder(value_coords[0] - 1, value_coords[1], heu_maze)) == int:\n",
        "                    temp_nodes.append(value_finder(value_coords[0] - 1, value_coords[1], maze_graph))\n",
        "\n",
        "            if value_coords[1] != 5:\n",
        "                if type(value_finder(value_coords[0], value_coords[1] + 1, heu_maze)) == int:\n",
        "                    temp_nodes.append(value_finder(value_coords[0], value_coords[1] + 1, maze_graph))\n",
        "            if value_coords[1] != 0:\n",
        "                if type(value_finder(value_coords[0], value_coords[1] - 1, heu_maze)) == int:\n",
        "                    temp_nodes.append(value_finder(value_coords[0], value_coords[1] - 1, maze_graph))\n",
        "\n",
        "        except IndexError:\n",
        "            pass\n",
        "\n",
        "\n",
        "\n",
        "        path.append(curr_node)\n",
        "        temp_coords = []\n",
        "        temp_heu_values = []\n",
        "\n",
        "\n",
        "        for i in range(len(temp_nodes)):\n",
        "            x = coords_finder2(temp_nodes[i], maze_graph)\n",
        "            temp_coords.append(x)\n",
        "\n",
        "        min_value = 1000\n",
        "        for i in range(len(temp_coords)):\n",
        "            x = value_finder(temp_coords[i][0][0], temp_coords[i][0][1], heu_maze)\n",
        "            if x == 100:\n",
        "                path.append(x)\n",
        "\n",
        "            if x < min_value:\n",
        "                value_coords = [temp_coords[i][0][0], temp_coords[i][0][1]]\n",
        "                curr_node = value_finder(value_coords[0], value_coords[1], maze_graph)\n",
        "                min_value = x\n",
        "\n",
        "        for i in temp_nodes:\n",
        "            if i not in visited:\n",
        "                visited.append(i)\n",
        "\n",
        "    return path\n",
        "\n",
        "\n",
        "#Generation of random numbers within given ranges for the start and end positions\n",
        "start_value = random.randint(0,11)\n",
        "end_value = random.randint(24,35)\n",
        "\n",
        "\n",
        "#generating a list without start and end values to generate barrier positions\n",
        "maze_numbers = [*range(0,36)]\n",
        "maze_numbers.remove(start_value)\n",
        "maze_numbers.remove(end_value)\n",
        "\n",
        "\n",
        "#generate barriers\n",
        "barriers = random.sample(maze_numbers, 5)\n",
        "\n",
        "\n",
        "#listing what characters to ignore when changing maze values\n",
        "char_list = ['S', 100, 'X']\n",
        "step_list = []\n",
        "\n",
        "maze = [] #declare empty maze to append values"
      ],
      "metadata": {
        "id": "3o4EHaTXRqjP"
      },
      "execution_count": null,
      "outputs": []
    },
    {
      "cell_type": "markdown",
      "source": [
        "Task 3"
      ],
      "metadata": {
        "id": "6Ia3Elx5QtfR"
      }
    },
    {
      "cell_type": "code",
      "source": [
        "def best_fs(start_node, goal_node):\n",
        "    visited.append(start_node)\n",
        "    path = []\n",
        "    curr_node = start_node\n",
        "    value_coords = coords_finder2(curr_node, heu_maze)[0]\n",
        "    while goal_node not in path:\n",
        "\n",
        "\n",
        "        temp_nodes = []\n",
        "\n",
        "        try:\n",
        "            if value_coords[0] != 5:\n",
        "                if type(value_finder(value_coords[0] + 1, value_coords[1], heu_maze)) == int:\n",
        "                    temp_nodes.append(value_finder(value_coords[0] + 1, value_coords[1], maze_graph))\n",
        "            if value_coords[0] != 0:\n",
        "                if type(value_finder(value_coords[0] - 1, value_coords[1], heu_maze)) == int:\n",
        "                    temp_nodes.append(value_finder(value_coords[0] - 1, value_coords[1], maze_graph))\n",
        "\n",
        "            if value_coords[1] != 5:\n",
        "                if type(value_finder(value_coords[0], value_coords[1] + 1, heu_maze)) == int:\n",
        "                    temp_nodes.append(value_finder(value_coords[0], value_coords[1] + 1, maze_graph))\n",
        "            if value_coords[1] != 0:\n",
        "                if type(value_finder(value_coords[0], value_coords[1] - 1, heu_maze)) == int:\n",
        "                    temp_nodes.append(value_finder(value_coords[0], value_coords[1] - 1, maze_graph))\n",
        "\n",
        "        except IndexError:\n",
        "            pass\n",
        "\n",
        "\n",
        "\n",
        "        path.append(curr_node)\n",
        "        temp_coords = []\n",
        "        temp_heu_values = []\n",
        "\n",
        "\n",
        "        for i in range(len(temp_nodes)):\n",
        "            x = coords_finder2(temp_nodes[i], maze_graph)\n",
        "            temp_coords.append(x)\n",
        "\n",
        "        min_value = 1000\n",
        "        for i in range(len(temp_coords)):\n",
        "            x = value_finder(temp_coords[i][0][0], temp_coords[i][0][1], heu_maze)\n",
        "            if x == 100:\n",
        "                path.append(x)\n",
        "\n",
        "            if x < min_value:\n",
        "                value_coords = [temp_coords[i][0][0], temp_coords[i][0][1]]\n",
        "                curr_node = value_finder(value_coords[0], value_coords[1], maze_graph)\n",
        "                min_value = x\n",
        "\n",
        "        for i in temp_nodes:\n",
        "            if i not in visited:\n",
        "                visited.append(i)\n",
        "\n",
        "    return path\n",
        "\n",
        "def heuristic_cost(x, y):\n",
        "    goal_node_coords = coords_finder(100, maze_graph)\n",
        "    man_dist = max(abs(x - goal_node_coords[0][0]),abs(y - goal_node_coords[0][1]))\n",
        "    return man_dist\n",
        "\n",
        "def heuristic_cost_maze():\n",
        "    temp_maze = []\n",
        "\n",
        "    for i in range(6):\n",
        "        temp_row = []\n",
        "        for j in range(6):\n",
        "            if maze[i][j] in char_list:\n",
        "                heu_value = maze[i][j]\n",
        "                temp_row.append(heu_value)\n",
        "                continue\n",
        "            else:\n",
        "                heu_value = heuristic_cost(i,j)\n",
        "                temp_row.append(heu_value)\n",
        "        temp_maze.append(temp_row)\n",
        "    return temp_maze\n",
        "\n",
        "#function to replace nodes which are free to go through\n",
        "def append_maze_zero(maze_size, maze):\n",
        "    for i in range(len(maze)):\n",
        "        for j in range(len(maze)):\n",
        "            if maze[i][j] not in char_list:\n",
        "                maze[i][j] = 0\n",
        "\n",
        "#iniitializing a dictionary to generate a graph\n",
        "graph = {}\n",
        "generate_maze(6)\n",
        "place_barriers(maze)\n",
        "maze_graph = deepcopy(maze)\n",
        "append_maze_zero(6, maze)\n",
        "\n",
        "\n",
        "def take_all_steps():\n",
        "    is_over = False\n",
        "    take_step('S', maze)\n",
        "\n",
        "\n",
        "    for i in range(1, 36):\n",
        "        is_over = take_step(i, maze)\n",
        "        if is_over == True:\n",
        "            break\n",
        "\n",
        "take_all_steps()\n",
        "path = []\n",
        "\n",
        "\n",
        "graphing_main()\n",
        "\n",
        "#print('Traversal Graph')\n",
        "#print(graph, '\\n')\n",
        "\n",
        "heu_maze = heuristic_cost_maze()\n",
        "\n",
        "visited = []  # List for visited nodes.\n",
        "queue = []  # Initialize a queue\n",
        "all_paths = []\n",
        "\n",
        "print()\n",
        "print('Heuristic Maze')\n",
        "print()\n",
        "print_maze(heu_maze)\n",
        "print()\n",
        "\n",
        "print('\\nPositional Value Maze:')\n",
        "print_maze(maze_graph)\n",
        "print()\n",
        "\n"
      ],
      "metadata": {
        "id": "FETPgWYxOJPj"
      },
      "execution_count": null,
      "outputs": []
    },
    {
      "cell_type": "markdown",
      "source": [
        "Task 4"
      ],
      "metadata": {
        "id": "pOxR5wJPTqtR"
      }
    },
    {
      "cell_type": "code",
      "source": [
        "visited.clear()\n",
        "x = best_fs(start_value, 100)\n",
        "print('A* Search\\n')\n",
        "print('Visited List: \\n', visited)\n",
        "print('\\nShortest Path: \\n', x)\n",
        "print('\\nTime to find the goal node: ', len(x) - 1, ' minutes')\n",
        "print('A* Score: ', (len(x) - 1)*2)\n"
      ],
      "metadata": {
        "colab": {
          "base_uri": "https://localhost:8080/",
          "height": 356
        },
        "id": "RhyZAMU8NBm6",
        "outputId": "4fc0235a-3a53-4009-ec6d-b847af7856ea"
      },
      "execution_count": null,
      "outputs": [
        {
          "output_type": "error",
          "ename": "TypeError",
          "evalue": "ignored",
          "traceback": [
            "\u001b[0;31m---------------------------------------------------------------------------\u001b[0m",
            "\u001b[0;31mTypeError\u001b[0m                                 Traceback (most recent call last)",
            "\u001b[0;32m<ipython-input-30-20978716208d>\u001b[0m in \u001b[0;36m<module>\u001b[0;34m\u001b[0m\n\u001b[1;32m      1\u001b[0m \u001b[0mvisited\u001b[0m\u001b[0;34m.\u001b[0m\u001b[0mclear\u001b[0m\u001b[0;34m(\u001b[0m\u001b[0;34m)\u001b[0m\u001b[0;34m\u001b[0m\u001b[0;34m\u001b[0m\u001b[0m\n\u001b[0;32m----> 2\u001b[0;31m \u001b[0mx\u001b[0m \u001b[0;34m=\u001b[0m \u001b[0mbest_fs\u001b[0m\u001b[0;34m(\u001b[0m\u001b[0mstart_value\u001b[0m\u001b[0;34m,\u001b[0m \u001b[0;36m100\u001b[0m\u001b[0;34m)\u001b[0m\u001b[0;34m\u001b[0m\u001b[0;34m\u001b[0m\u001b[0m\n\u001b[0m\u001b[1;32m      3\u001b[0m \u001b[0mprint\u001b[0m\u001b[0;34m(\u001b[0m\u001b[0;34m'A* Search\\n'\u001b[0m\u001b[0;34m)\u001b[0m\u001b[0;34m\u001b[0m\u001b[0;34m\u001b[0m\u001b[0m\n\u001b[1;32m      4\u001b[0m \u001b[0mprint\u001b[0m\u001b[0;34m(\u001b[0m\u001b[0;34m'Visited List: \\n'\u001b[0m\u001b[0;34m,\u001b[0m \u001b[0mvisited\u001b[0m\u001b[0;34m)\u001b[0m\u001b[0;34m\u001b[0m\u001b[0;34m\u001b[0m\u001b[0m\n\u001b[1;32m      5\u001b[0m \u001b[0mprint\u001b[0m\u001b[0;34m(\u001b[0m\u001b[0;34m'\\nShortest Path: \\n'\u001b[0m\u001b[0;34m,\u001b[0m \u001b[0mx\u001b[0m\u001b[0;34m)\u001b[0m\u001b[0;34m\u001b[0m\u001b[0;34m\u001b[0m\u001b[0m\n",
            "\u001b[0;32m<ipython-input-29-4311c0ba6786>\u001b[0m in \u001b[0;36mbest_fs\u001b[0;34m(start_node, goal_node)\u001b[0m\n\u001b[1;32m      3\u001b[0m     \u001b[0mpath\u001b[0m \u001b[0;34m=\u001b[0m \u001b[0;34m[\u001b[0m\u001b[0;34m]\u001b[0m\u001b[0;34m\u001b[0m\u001b[0;34m\u001b[0m\u001b[0m\n\u001b[1;32m      4\u001b[0m     \u001b[0mcurr_node\u001b[0m \u001b[0;34m=\u001b[0m \u001b[0mstart_node\u001b[0m\u001b[0;34m\u001b[0m\u001b[0;34m\u001b[0m\u001b[0m\n\u001b[0;32m----> 5\u001b[0;31m     \u001b[0mvalue_coords\u001b[0m \u001b[0;34m=\u001b[0m \u001b[0mcoords_finder2\u001b[0m\u001b[0;34m(\u001b[0m\u001b[0mcurr_node\u001b[0m\u001b[0;34m,\u001b[0m \u001b[0mheu_maze\u001b[0m\u001b[0;34m)\u001b[0m\u001b[0;34m[\u001b[0m\u001b[0;36m0\u001b[0m\u001b[0;34m]\u001b[0m\u001b[0;34m\u001b[0m\u001b[0;34m\u001b[0m\u001b[0m\n\u001b[0m\u001b[1;32m      6\u001b[0m     \u001b[0;32mwhile\u001b[0m \u001b[0mgoal_node\u001b[0m \u001b[0;32mnot\u001b[0m \u001b[0;32min\u001b[0m \u001b[0mpath\u001b[0m\u001b[0;34m:\u001b[0m\u001b[0;34m\u001b[0m\u001b[0;34m\u001b[0m\u001b[0m\n\u001b[1;32m      7\u001b[0m \u001b[0;34m\u001b[0m\u001b[0m\n",
            "\u001b[0;31mTypeError\u001b[0m: 'int' object is not callable"
          ]
        }
      ]
    },
    {
      "cell_type": "markdown",
      "source": [
        "Task 5"
      ],
      "metadata": {
        "id": "pi-sCNqUVJQE"
      }
    },
    {
      "cell_type": "code",
      "source": [
        "\n",
        "def DFS2():\n",
        "    #Depth First Search\n",
        "    #visited = []  # List for visited nodes.\n",
        "    #queue = []  # Initialize a queue\n",
        "    #visited.clear()\n",
        "    queue.clear()\n",
        "    visited = set()\n",
        "\n",
        "    start_value = random.randint(0,11)\n",
        "    end_value = random.randint(24,35)\n",
        "    barriers = random.sample(maze_numbers, 5)\n",
        "    dfs(visited, graph, start_value, 100)\n",
        "\n",
        "    print('\\nTime to find the goal node: ', len(visited), ' minutes')\n",
        "    path.reverse()\n",
        "\n",
        "    print('Path: ', path)\n",
        "\n",
        "\n",
        "DFS2()\n",
        "DFS2()"
      ],
      "metadata": {
        "id": "qJDrXq3tVNY9",
        "colab": {
          "base_uri": "https://localhost:8080/",
          "height": 380
        },
        "outputId": "43eb030d-0065-48f1-b64e-fdc670e9790f"
      },
      "execution_count": null,
      "outputs": [
        {
          "output_type": "stream",
          "name": "stdout",
          "text": [
            "2 "
          ]
        },
        {
          "output_type": "error",
          "ename": "KeyError",
          "evalue": "ignored",
          "traceback": [
            "\u001b[0;31m---------------------------------------------------------------------------\u001b[0m",
            "\u001b[0;31mKeyError\u001b[0m                                  Traceback (most recent call last)",
            "\u001b[0;32m<ipython-input-33-dc24394e4e2a>\u001b[0m in \u001b[0;36m<module>\u001b[0;34m\u001b[0m\n\u001b[1;32m     18\u001b[0m \u001b[0;34m\u001b[0m\u001b[0m\n\u001b[1;32m     19\u001b[0m \u001b[0;34m\u001b[0m\u001b[0m\n\u001b[0;32m---> 20\u001b[0;31m \u001b[0mDFS2\u001b[0m\u001b[0;34m(\u001b[0m\u001b[0;34m)\u001b[0m\u001b[0;34m\u001b[0m\u001b[0;34m\u001b[0m\u001b[0m\n\u001b[0m\u001b[1;32m     21\u001b[0m \u001b[0mDFS2\u001b[0m\u001b[0;34m(\u001b[0m\u001b[0;34m)\u001b[0m\u001b[0;34m\u001b[0m\u001b[0;34m\u001b[0m\u001b[0m\n",
            "\u001b[0;32m<ipython-input-33-dc24394e4e2a>\u001b[0m in \u001b[0;36mDFS2\u001b[0;34m()\u001b[0m\n\u001b[1;32m     10\u001b[0m     \u001b[0mend_value\u001b[0m \u001b[0;34m=\u001b[0m \u001b[0mrandom\u001b[0m\u001b[0;34m.\u001b[0m\u001b[0mrandint\u001b[0m\u001b[0;34m(\u001b[0m\u001b[0;36m24\u001b[0m\u001b[0;34m,\u001b[0m\u001b[0;36m35\u001b[0m\u001b[0;34m)\u001b[0m\u001b[0;34m\u001b[0m\u001b[0;34m\u001b[0m\u001b[0m\n\u001b[1;32m     11\u001b[0m     \u001b[0mbarriers\u001b[0m \u001b[0;34m=\u001b[0m \u001b[0mrandom\u001b[0m\u001b[0;34m.\u001b[0m\u001b[0msample\u001b[0m\u001b[0;34m(\u001b[0m\u001b[0mmaze_numbers\u001b[0m\u001b[0;34m,\u001b[0m \u001b[0;36m5\u001b[0m\u001b[0;34m)\u001b[0m\u001b[0;34m\u001b[0m\u001b[0;34m\u001b[0m\u001b[0m\n\u001b[0;32m---> 12\u001b[0;31m     \u001b[0mdfs\u001b[0m\u001b[0;34m(\u001b[0m\u001b[0mvisited\u001b[0m\u001b[0;34m,\u001b[0m \u001b[0mgraph\u001b[0m\u001b[0;34m,\u001b[0m \u001b[0mstart_value\u001b[0m\u001b[0;34m,\u001b[0m \u001b[0;36m100\u001b[0m\u001b[0;34m)\u001b[0m\u001b[0;34m\u001b[0m\u001b[0;34m\u001b[0m\u001b[0m\n\u001b[0m\u001b[1;32m     13\u001b[0m \u001b[0;34m\u001b[0m\u001b[0m\n\u001b[1;32m     14\u001b[0m     \u001b[0mprint\u001b[0m\u001b[0;34m(\u001b[0m\u001b[0;34m'\\nTime to find the goal node: '\u001b[0m\u001b[0;34m,\u001b[0m \u001b[0mlen\u001b[0m\u001b[0;34m(\u001b[0m\u001b[0mvisited\u001b[0m\u001b[0;34m)\u001b[0m\u001b[0;34m,\u001b[0m \u001b[0;34m' minutes'\u001b[0m\u001b[0;34m)\u001b[0m\u001b[0;34m\u001b[0m\u001b[0;34m\u001b[0m\u001b[0m\n",
            "\u001b[0;32m<ipython-input-27-6ee4e24b26d4>\u001b[0m in \u001b[0;36mdfs\u001b[0;34m(visited, graph, node, target_node)\u001b[0m\n\u001b[1;32m     11\u001b[0m         \u001b[0mprint\u001b[0m \u001b[0;34m(\u001b[0m\u001b[0mnode\u001b[0m\u001b[0;34m,\u001b[0m \u001b[0mend\u001b[0m \u001b[0;34m=\u001b[0m \u001b[0;34m\" \"\u001b[0m\u001b[0;34m)\u001b[0m\u001b[0;34m\u001b[0m\u001b[0;34m\u001b[0m\u001b[0m\n\u001b[1;32m     12\u001b[0m         \u001b[0mvisited\u001b[0m\u001b[0;34m.\u001b[0m\u001b[0madd\u001b[0m\u001b[0;34m(\u001b[0m\u001b[0mnode\u001b[0m\u001b[0;34m)\u001b[0m\u001b[0;34m\u001b[0m\u001b[0;34m\u001b[0m\u001b[0m\n\u001b[0;32m---> 13\u001b[0;31m         \u001b[0;32mfor\u001b[0m \u001b[0mneighbour\u001b[0m \u001b[0;32min\u001b[0m \u001b[0mgraph\u001b[0m\u001b[0;34m[\u001b[0m\u001b[0mnode\u001b[0m\u001b[0;34m]\u001b[0m\u001b[0;34m:\u001b[0m\u001b[0;34m\u001b[0m\u001b[0;34m\u001b[0m\u001b[0m\n\u001b[0m\u001b[1;32m     14\u001b[0m             \u001b[0mdfs\u001b[0m\u001b[0;34m(\u001b[0m\u001b[0mvisited\u001b[0m\u001b[0;34m,\u001b[0m \u001b[0mgraph\u001b[0m\u001b[0;34m,\u001b[0m \u001b[0mneighbour\u001b[0m\u001b[0;34m,\u001b[0m \u001b[0mtarget_node\u001b[0m\u001b[0;34m)\u001b[0m\u001b[0;34m\u001b[0m\u001b[0;34m\u001b[0m\u001b[0m\n\u001b[1;32m     15\u001b[0m             \u001b[0;32mif\u001b[0m \u001b[0mtarget_node\u001b[0m \u001b[0;32min\u001b[0m \u001b[0mvisited\u001b[0m\u001b[0;34m:\u001b[0m\u001b[0;34m\u001b[0m\u001b[0;34m\u001b[0m\u001b[0m\n",
            "\u001b[0;31mKeyError\u001b[0m: 2"
          ]
        }
      ]
    }
  ]
}